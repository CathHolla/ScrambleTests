{
 "cells": [
  {
   "cell_type": "code",
   "execution_count": 5,
   "metadata": {},
   "outputs": [
    {
     "name": "stdout",
     "output_type": "stream",
     "text": [
      "[nltk_data] Downloading package punkt to /Users/cocolab/nltk_data...\n",
      "[nltk_data]   Package punkt is already up-to-date!\n"
     ]
    }
   ],
   "source": [
    "%matplotlib inline\n",
    "import numpy as np\n",
    "import matplotlib.pyplot as plt\n",
    "import pandas as pd\n",
    "import scipy.stats\n",
    "import seaborn as sns\n",
    "import torch\n",
    "import nltk\n",
    "nltk.download(\"punkt\")\n",
    "import torch\n",
    "import pickle\n",
    "import regrFuncs as rF\n",
    "import testFuncs as tF\n"
   ]
  },
  {
   "cell_type": "code",
   "execution_count": 2,
   "metadata": {
    "collapsed": true
   },
   "outputs": [],
   "source": [
    "GLOVE_PATH = './Downloads/glove.840B.300d.txt'\n",
    "MODEL_PATH = './Downloads/infersent.allnli.pickle'\n",
    "REGR_MODEL_PATH = './models/'\n",
    "EMBED_STORE = None\n",
    "TEST_OUT_PATH = './regout/'\n",
    "DATA_PATH = './Downloads/SNLI/true/'\n",
    "\n",
    "outpaths = {'REGR_MODEL_PATH': REGR_MODEL_PATH, 'TEST_OUT_PATH': TEST_OUT_PATH}\n",
    "\n",
    "\n",
    "id2label = {0:'CONTRADICTION', 1:'NEUTRAL', 2:'ENTAILMENT'}\n",
    "label2id = {'CONTRADICTION': 0, 'NEUTRAL':1, 'ENTAILMENT':2}"
   ]
  },
  {
   "cell_type": "code",
   "execution_count": 7,
   "metadata": {},
   "outputs": [
    {
     "name": "stdout",
     "output_type": "stream",
     "text": [
      "Vocab size : 100000\n"
     ]
    }
   ],
   "source": [
    "model = torch.load(MODEL_PATH, map_location=lambda storage, loc: storage)\n",
    "model.use_cuda = False\n",
    "model.set_glove_path(GLOVE_PATH)\n",
    "model.build_vocab_k_words(K=100000)"
   ]
  },
  {
   "cell_type": "code",
   "execution_count": 8,
   "metadata": {
    "collapsed": true
   },
   "outputs": [],
   "source": [
    "names = ['InferSent', 'BOW']\n",
    "classifiers = [ 'LogReg']\n",
    "all_regs = {}\n",
    "for name in names:\n",
    "    for classifier in classifiers:\n",
    "        all_regs[name+classifier] = pickle.load(open('{0}{1}'.format(outpaths['REGR_MODEL_PATH'], name+classifier), 'rb'))\n",
    "\n"
   ]
  },
  {
   "cell_type": "code",
   "execution_count": 78,
   "metadata": {
    "collapsed": true
   },
   "outputs": [],
   "source": [
    "def print_preds(sents_a, sents_b):\n",
    "    for name in names:\n",
    "        for classifier in classifiers:\n",
    "            A, B = rF.embed(model, sent_a, 1, name), rF.embed(model, sent_b, 1, name)\n",
    "            pred, conf = tF.predict(A, B, all_regs[name+classifier])\n",
    "            print('*'*20)\n",
    "            print(name, classifier)\n",
    "            print('*'*20, '\\n')\n",
    "            for i in range(len(A)):\n",
    "                print('A: ', sent_a[i], '\\t B: ', sent_b[i])\n",
    "                print(id2label[pred[i]], conf[i][pred[i]]*100)\n",
    "                print('\\n')\n",
    "            print('\\n\\n')\n",
    "    return"
   ]
  },
  {
   "cell_type": "code",
   "execution_count": 101,
   "metadata": {},
   "outputs": [
    {
     "name": "stdout",
     "output_type": "stream",
     "text": [
      "********************\n",
      "InferSent LogReg\n",
      "******************** \n",
      "\n",
      "A:  the boy is less cheerful than the fat man . \t B:  the boy is more cheerful than the fat man .\n",
      "CONTRADICTION 95.73731422424316\n",
      "\n",
      "\n",
      "A:  the tall boy is less cheerful than the fat man . \t B:  the tall boy is more cheerful than the fat man .\n",
      "CONTRADICTION 66.7090117931366\n",
      "\n",
      "\n",
      "A:  the tall blonde boy is less cheerful than the fat man . \t B:  the tall blonde boy is more cheerful than the fat man .\n",
      "ENTAILMENT 68.31164956092834\n",
      "\n",
      "\n",
      "A:  the tall blonde pale boy is less cheerful than the fat man . \t B:  the tall blonde pale boy is more cheerful than the fat man .\n",
      "ENTAILMENT 76.85955166816711\n",
      "\n",
      "\n",
      "A:  the tall blonde pale young boy is less cheerful than the fat man . \t B:  the tall blonde pale young boy is more cheerful than the fat man .\n",
      "ENTAILMENT 86.5109920501709\n",
      "\n",
      "\n",
      "\n",
      "\n",
      "\n",
      "********************\n",
      "BOW LogReg\n",
      "******************** \n",
      "\n",
      "A:  the boy is less cheerful than the fat man . \t B:  the boy is more cheerful than the fat man .\n",
      "NEUTRAL 92.18310713768005\n",
      "\n",
      "\n",
      "A:  the tall boy is less cheerful than the fat man . \t B:  the tall boy is more cheerful than the fat man .\n",
      "NEUTRAL 87.57855892181396\n",
      "\n",
      "\n",
      "A:  the tall blonde boy is less cheerful than the fat man . \t B:  the tall blonde boy is more cheerful than the fat man .\n",
      "NEUTRAL 83.01844596862793\n",
      "\n",
      "\n",
      "A:  the tall blonde pale boy is less cheerful than the fat man . \t B:  the tall blonde pale boy is more cheerful than the fat man .\n",
      "NEUTRAL 78.4587562084198\n",
      "\n",
      "\n",
      "A:  the tall blonde pale young boy is less cheerful than the fat man . \t B:  the tall blonde pale young boy is more cheerful than the fat man .\n",
      "NEUTRAL 81.71388506889343\n",
      "\n",
      "\n",
      "\n",
      "\n",
      "\n"
     ]
    }
   ],
   "source": [
    "sent_a = ['the boy is less cheerful than the fat man .', \n",
    "          'the tall boy is less cheerful than the fat man .', \n",
    "          'the tall pale boy is less cheerful than the fat man .',\n",
    "         'the tall pale young boy is less cheerful than the fat man .',\n",
    "          'the tall pale young blonde boy is less cheerful than the fat man .']\n",
    "\n",
    "sent_b = ['the boy is more cheerful than the fat man .', \n",
    "          'the tall boy is more cheerful than the fat man .', \n",
    "          'the tall pale boy is more cheerful than the fat man .',\n",
    "         'the tall pale young boy is more cheerful than the fat man .',\n",
    "          'the tall pale young blonde boy is more cheerful than the fat man .']\n",
    "ds(sent_a, sent_b)"
   ]
  },
  {
   "cell_type": "code",
   "execution_count": 95,
   "metadata": {},
   "outputs": [
    {
     "name": "stdout",
     "output_type": "stream",
     "text": [
      "********************\n",
      "InferSent LogReg\n",
      "******************** \n",
      "\n",
      "A:  the boy is less cheerful than the fat man. \t B:  the boy is more cheerful than the fat man.\n",
      "CONTRADICTION 93.67058277130127\n",
      "\n",
      "\n",
      "A:  the boy is less cheerful than the fat man with the hat. \t B:  the boy is more cheerful than the fat man with the hat.\n",
      "CONTRADICTION 95.35847306251526\n",
      "\n",
      "\n",
      "A:  the boy is less cheerful than the fat man with the big hat. \t B:  the boy is more cheerful than the fat man with the big hat.\n",
      "CONTRADICTION 81.98242783546448\n",
      "\n",
      "\n",
      "A:  the boy with the hat is less cheerful than the fat man. \t B:  the boy with the hat is more cheerful than the fat man.\n",
      "CONTRADICTION 65.6223475933075\n",
      "\n",
      "\n",
      "A:  the boy with the big hat is less cheerful than the fat man. \t B:  the boy with the big hat is more cheerful than the fat man.\n",
      "ENTAILMENT 65.0149405002594\n",
      "\n",
      "\n",
      "\n",
      "\n",
      "\n",
      "********************\n",
      "BOW LogReg\n",
      "******************** \n",
      "\n",
      "A:  the boy is less cheerful than the fat man. \t B:  the boy is more cheerful than the fat man.\n",
      "NEUTRAL 92.18310713768005\n",
      "\n",
      "\n",
      "A:  the boy is less cheerful than the fat man with the hat. \t B:  the boy is more cheerful than the fat man with the hat.\n",
      "NEUTRAL 82.18633532524109\n",
      "\n",
      "\n",
      "A:  the boy is less cheerful than the fat man with the big hat. \t B:  the boy is more cheerful than the fat man with the big hat.\n",
      "NEUTRAL 88.27133178710938\n",
      "\n",
      "\n",
      "A:  the boy with the hat is less cheerful than the fat man. \t B:  the boy with the hat is more cheerful than the fat man.\n",
      "NEUTRAL 82.18633532524109\n",
      "\n",
      "\n",
      "A:  the boy with the big hat is less cheerful than the fat man. \t B:  the boy with the big hat is more cheerful than the fat man.\n",
      "NEUTRAL 88.2713258266449\n",
      "\n",
      "\n",
      "\n",
      "\n",
      "\n"
     ]
    }
   ],
   "source": [
    "sent_a = ['the boy is less cheerful than the fat man.',\n",
    "          'the boy is less cheerful than the fat man with the hat.',\n",
    "          'the boy is less cheerful than the fat man with the big hat.',\n",
    "          'the boy with the hat is less cheerful than the fat man.',\n",
    "          'the boy with the big hat is less cheerful than the fat man.']\n",
    "\n",
    "sent_b = ['the boy is more cheerful than the fat man.',\n",
    "          'the boy is more cheerful than the fat man with the hat.',\n",
    "          'the boy is more cheerful than the fat man with the big hat.',\n",
    "          'the boy with the hat is more cheerful than the fat man.',\n",
    "          'the boy with the big hat is more cheerful than the fat man.']\n",
    "print_preds(sent_a, sent_b)"
   ]
  },
  {
   "cell_type": "code",
   "execution_count": 109,
   "metadata": {},
   "outputs": [
    {
     "name": "stdout",
     "output_type": "stream",
     "text": [
      "********************\n",
      "InferSent LogReg\n",
      "******************** \n",
      "\n",
      "A:  the girl does shout loudly , however the boy does not shout loudly . \t B:  the boy does shout loudly .\n",
      "CONTRADICTION 99.96054768562317\n",
      "\n",
      "\n",
      "A:  the girl does shout loudly , however the tall boy does not shout loudly . \t B:  the tall boy does shout loudly .\n",
      "CONTRADICTION 98.7440824508667\n",
      "\n",
      "\n",
      "A:  the girl does shout loudly , however the tall pale boy does not shout loudly . \t B:  the tall pale boy does shout loudly .\n",
      "CONTRADICTION 82.65823721885681\n",
      "\n",
      "\n",
      "A:  the girl does shout loudly , however the tall pale young boy does not shout loudly . \t B:  the tall pale young boy does shout loudly .\n",
      "ENTAILMENT 73.01568388938904\n",
      "\n",
      "\n",
      "\n",
      "\n",
      "\n",
      "********************\n",
      "BOW LogReg\n",
      "******************** \n",
      "\n",
      "A:  the girl does shout loudly , however the boy does not shout loudly . \t B:  the boy does shout loudly .\n",
      "ENTAILMENT 99.84913468360901\n",
      "\n",
      "\n",
      "A:  the girl does shout loudly , however the tall boy does not shout loudly . \t B:  the tall boy does shout loudly .\n",
      "ENTAILMENT 99.51723217964172\n",
      "\n",
      "\n",
      "A:  the girl does shout loudly , however the tall pale boy does not shout loudly . \t B:  the tall pale boy does shout loudly .\n",
      "ENTAILMENT 98.74417781829834\n",
      "\n",
      "\n",
      "A:  the girl does shout loudly , however the tall pale young boy does not shout loudly . \t B:  the tall pale young boy does shout loudly .\n",
      "ENTAILMENT 96.87215089797974\n",
      "\n",
      "\n",
      "\n",
      "\n",
      "\n"
     ]
    }
   ],
   "source": [
    "sent_a = ['the girl does shout loudly , however the boy does not shout loudly .',\n",
    "         'the girl does shout loudly , however the tall boy does not shout loudly .',\n",
    "         'the girl does shout loudly , however the tall pale boy does not shout loudly .',\n",
    "         'the girl does shout loudly , however the tall pale young boy does not shout loudly .']\n",
    "\n",
    "sent_b = ['the boy does shout loudly .',\n",
    "         'the tall boy does shout loudly .',\n",
    "         'the tall pale boy does shout loudly .',\n",
    "         'the tall pale young boy does shout loudly .']\n",
    "\n",
    "\n",
    "print_preds(sent_a, sent_b)"
   ]
  },
  {
   "cell_type": "code",
   "execution_count": 110,
   "metadata": {},
   "outputs": [
    {
     "name": "stdout",
     "output_type": "stream",
     "text": [
      "********************\n",
      "InferSent LogReg\n",
      "******************** \n",
      "\n",
      "A:  the girl does shout loudly , however the boy does not shout loudly . \t B:  the boy does shout loudly .\n",
      "CONTRADICTION 99.96054768562317\n",
      "\n",
      "\n",
      "A:  the tall girl does shout loudly , however the boy does not shout loudly . \t B:  the boy does shout loudly .\n",
      "CONTRADICTION 99.45414662361145\n",
      "\n",
      "\n",
      "A:  the tall pale girl does shout loudly , however the boy does not shout loudly . \t B:  the boy does shout loudly .\n",
      "CONTRADICTION 96.6947615146637\n",
      "\n",
      "\n",
      "A:  the tall pale young girl does shout loudly , however the boy does not shout loudly . \t B:  the boy does shout loudly .\n",
      "CONTRADICTION 89.04892802238464\n",
      "\n",
      "\n",
      "\n",
      "\n",
      "\n",
      "********************\n",
      "BOW LogReg\n",
      "******************** \n",
      "\n",
      "A:  the girl does shout loudly , however the boy does not shout loudly . \t B:  the boy does shout loudly .\n",
      "ENTAILMENT 99.84913468360901\n",
      "\n",
      "\n",
      "A:  the tall girl does shout loudly , however the boy does not shout loudly . \t B:  the boy does shout loudly .\n",
      "ENTAILMENT 99.61853623390198\n",
      "\n",
      "\n",
      "A:  the tall pale girl does shout loudly , however the boy does not shout loudly . \t B:  the boy does shout loudly .\n",
      "ENTAILMENT 98.84112477302551\n",
      "\n",
      "\n",
      "A:  the tall pale young girl does shout loudly , however the boy does not shout loudly . \t B:  the boy does shout loudly .\n",
      "ENTAILMENT 99.75412487983704\n",
      "\n",
      "\n",
      "\n",
      "\n",
      "\n"
     ]
    }
   ],
   "source": [
    "sent_a = ['the girl does shout loudly , however the boy does not shout loudly .',\n",
    "         'the tall girl does shout loudly , however the boy does not shout loudly .',\n",
    "         'the tall pale girl does shout loudly , however the boy does not shout loudly .',\n",
    "         'the tall pale young girl does shout loudly , however the boy does not shout loudly .',]\n",
    "\n",
    "sent_b = ['the boy does shout loudly .',\n",
    "          'the boy does shout loudly .',\n",
    "          'the boy does shout loudly .',\n",
    "          'the boy does shout loudly .']\n",
    "\n",
    "print_preds(sent_a, sent_b)"
   ]
  },
  {
   "cell_type": "code",
   "execution_count": 111,
   "metadata": {},
   "outputs": [
    {
     "name": "stdout",
     "output_type": "stream",
     "text": [
      "********************\n",
      "InferSent LogReg\n",
      "******************** \n",
      "\n",
      "A:  the girl does shout loudly , however the boy does not shout loudly . \t B:  the boy does shout loudly .\n",
      "CONTRADICTION 99.96054768562317\n",
      "\n",
      "\n",
      "A:  the tall girl does shout loudly , however the boy does not shout loudly . \t B:  the boy does shout loudly .\n",
      "CONTRADICTION 99.45414662361145\n",
      "\n",
      "\n",
      "A:  the tall pale girl does shout loudly , however the boy does not shout loudly . \t B:  the boy does shout loudly .\n",
      "CONTRADICTION 96.6947615146637\n",
      "\n",
      "\n",
      "A:  the tall pale young girl does shout loudly , however the boy does not shout loudly . \t B:  the boy does shout loudly .\n",
      "CONTRADICTION 89.04892802238464\n",
      "\n",
      "\n",
      "\n",
      "\n",
      "\n",
      "********************\n",
      "BOW LogReg\n",
      "******************** \n",
      "\n",
      "A:  the girl does shout loudly , however the boy does not shout loudly . \t B:  the boy does shout loudly .\n",
      "ENTAILMENT 99.84913468360901\n",
      "\n",
      "\n",
      "A:  the tall girl does shout loudly , however the boy does not shout loudly . \t B:  the boy does shout loudly .\n",
      "ENTAILMENT 99.61853623390198\n",
      "\n",
      "\n",
      "A:  the tall pale girl does shout loudly , however the boy does not shout loudly . \t B:  the boy does shout loudly .\n",
      "ENTAILMENT 98.84112477302551\n",
      "\n",
      "\n",
      "A:  the tall pale young girl does shout loudly , however the boy does not shout loudly . \t B:  the boy does shout loudly .\n",
      "ENTAILMENT 99.75412487983704\n",
      "\n",
      "\n",
      "\n",
      "\n",
      "\n"
     ]
    }
   ],
   "source": [
    "sents_a = ['the boy overtakes the old woman .',\n",
    "           'the tall boy overtakes the old woman .',\n",
    "           'the tall thin boy overtakes the old woman .',\n",
    "           'the tall thin pale boy overtakes the old woman .']\n",
    "\n",
    "sents_b = ['the old woman overtakes the boy .',\n",
    "           'the old woman overtakes the tall boy .',\n",
    "           'the old woman overtakes the tall thin boy .',\n",
    "           'the old woman overtakes the tall thin pale boy .']\n",
    "\n",
    "print_preds(sent_a, sent_b)         "
   ]
  },
  {
   "cell_type": "code",
   "execution_count": null,
   "metadata": {
    "collapsed": true
   },
   "outputs": [],
   "source": []
  }
 ],
 "metadata": {
  "kernelspec": {
   "display_name": "Python 3",
   "language": "python",
   "name": "python3"
  },
  "language_info": {
   "codemirror_mode": {
    "name": "ipython",
    "version": 3
   },
   "file_extension": ".py",
   "mimetype": "text/x-python",
   "name": "python",
   "nbconvert_exporter": "python",
   "pygments_lexer": "ipython3",
   "version": "3.6.1"
  }
 },
 "nbformat": 4,
 "nbformat_minor": 2
}
