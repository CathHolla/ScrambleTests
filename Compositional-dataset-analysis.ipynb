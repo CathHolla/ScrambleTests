{
 "cells": [
  {
   "cell_type": "code",
   "execution_count": null,
   "metadata": {
    "collapsed": true
   },
   "outputs": [],
   "source": [
    "%matplotlib inline  \n",
    "\n",
    "import numpy as np; np.random.seed(0)\n",
    "import seaborn as sns; sns.set()"
   ]
  },
  {
   "cell_type": "code",
   "execution_count": null,
   "metadata": {},
   "outputs": [],
   "source": [
    "uniform_data = np.random.rand(3, 3)\n",
    "ax = sns.heatmap(uniform_data)"
   ]
  },
  {
   "cell_type": "code",
   "execution_count": null,
   "metadata": {
    "collapsed": true
   },
   "outputs": [],
   "source": [
    "flights = sns.load_dataset(\"flights\")"
   ]
  },
  {
   "cell_type": "code",
   "execution_count": null,
   "metadata": {},
   "outputs": [],
   "source": [
    "print type(flights)\n",
    "flights = flights.pivot(\"month\", \"year\", \"passengers\")"
   ]
  },
  {
   "cell_type": "code",
   "execution_count": null,
   "metadata": {},
   "outputs": [],
   "source": [
    "flights.head()\n",
    "flights.columns.name = \"happy\"\n",
    "flights.head()"
   ]
  },
  {
   "cell_type": "code",
   "execution_count": null,
   "metadata": {},
   "outputs": [],
   "source": [
    "ax = sns.heatmap(uniform_data, annot=True, xticklabels=[\"a\",\"b\",\"c\"])"
   ]
  },
  {
   "cell_type": "code",
   "execution_count": null,
   "metadata": {},
   "outputs": [],
   "source": [
    "print uniform_data"
   ]
  },
  {
   "cell_type": "code",
   "execution_count": null,
   "metadata": {},
   "outputs": [],
   "source": [
    "ml_data = np.zeros((3,3), dtype=float)\n",
    "# row; true, column: prediction\n",
    "ml_data[0][0] = 7370\n",
    "ml_data[2][0]=7227\n",
    "ml_data[2][2]=17\n",
    "ml_data[2][1]=56\n",
    "print ml_data\n",
    "ml_data[0] /= np.sum(ml_data[0])\n",
    "ml_data[2] /= np.sum(ml_data[2])\n",
    "\n",
    "# normalize\n",
    "#ax = sns.heatmap(ml_data, vmin=-1.0, vmax=1.0, robust=True,annot=True, xticklabels=[\"contradition\", \"neutral\", \"entailment\"], yticklabels=[\"contradition\", \"neutral\", \"entailment\"])\n",
    "#(0, 0): 7370, (2, 0): 7227, (2, 2): 17, (2, 1): 56\n",
    "#ax.set_title(\"Comp: more/less Confusion Matrix\")\n",
    "print ax\n",
    "\n",
    "import pandas as pd\n",
    "sns.set(font_scale=2.0)\n",
    "\n",
    "ml_panda = pd.DataFrame(ml_data, columns=[\"Contr\", \"Neut\", \"Ent\"], index=[\"Contr\", \"Neut\", \"Ent\"])\n",
    "ml_panda.columns.name = \"predicted label\"\n",
    "ml_panda.index.name=\"true label\"\n",
    "ax = sns.heatmap(ml_panda,vmin=0., vmax=1.0, robust=True,annot=True)\n",
    "ax.set_title(\"InferSent: more/less type\")\n"
   ]
  },
  {
   "cell_type": "code",
   "execution_count": null,
   "metadata": {},
   "outputs": [],
   "source": [
    "ml_data = np.zeros((3,3), dtype=float)\n",
    "# row; true, column: prediction\n",
    "ml_data[0][2] = 7132\n",
    "ml_data[0][0] = 54\n",
    "ml_data[2][2] = 7337\n",
    "ml_data[0][1] = 147\n",
    "print ml_data\n",
    "ml_data[0] /= np.sum(ml_data[0])\n",
    "ml_data[2] /= np.sum(ml_data[2])\n",
    "\n",
    "# normalize\n",
    "#ax = sns.heatmap(ml_data, vmin=-1.0, vmax=1.0, robust=True,annot=True, xticklabels=[\"contradition\", \"neutral\", \"entailment\"], yticklabels=[\"contradition\", \"neutral\", \"entailment\"])\n",
    "#c {(2, 0): 7337, (0, 2): 54, (0, 0): 7132, (0, 1): 147}█████| 14/14 [00:00<00:00, 31895.85it/s]\n",
    "#ax.set_title(\"Comp: more/less Confusion Matrix\")\n",
    "print ax\n",
    "sns.set(font_scale=2.0)\n",
    "\n",
    "import pandas as pd\n",
    "ml_panda = pd.DataFrame(ml_data, columns=[\"Contr\", \"Neut\", \"Ent\"], index=[\"Contr\", \"Neut\", \"Ent\"])\n",
    "ml_panda.columns.name = \"predicted label\"\n",
    "ml_panda.index.name=\"true label\"\n",
    "ax = sns.heatmap(ml_panda,vmin=0., vmax=1.0, robust=True,annot=True)\n",
    "ax.set_title(\"InferSent: same type\")\n",
    "\n"
   ]
  },
  {
   "cell_type": "code",
   "execution_count": null,
   "metadata": {},
   "outputs": [],
   "source": [
    "#confusion (true, predict) {(2, 2): 1959, (0, 2): 2348, (0, 0): 4677, (2, 0): 4706, (0, 1): 338, (2, 1): 642}159.35it/s]\n",
    "ml_data = np.zeros((3,3), dtype=float)\n",
    "# row; true, column: prediction\n",
    "ml_data[2][2] = 1959\n",
    "ml_data[0][2] = 2348\n",
    "ml_data[0][0] = 4677\n",
    "ml_data[2][0] = 4706\n",
    "ml_data[0][1] = 338\n",
    "ml_data[2][1] = 642\n",
    "print ml_data\n",
    "\n",
    "ml_data[0] /= np.sum(ml_data[0])\n",
    "ml_data[2] /= np.sum(ml_data[2])\n",
    "# normalize\n",
    "#ax = sns.heatmap(ml_data, vmin=-1.0, vmax=1.0, robust=True,annot=True, xticklabels=[\"contradition\", \"neutral\", \"entailment\"], yticklabels=[\"contradition\", \"neutral\", \"entailment\"])\n",
    "#c {(2, 0): 7337, (0, 2): 54, (0, 0): 7132, (0, 1): 147}█████| 14/14 [00:00<00:00, 31895.85it/s]\n",
    "#ax.set_title(\"Comp: more/less Confusion Matrix\")\n",
    "print ax\n",
    "\n",
    "import pandas as pd\n",
    "ml_panda = pd.DataFrame(ml_data, columns=[\"Contr\", \"Neut\", \"Ent\"], index=[\"Contr\", \"Neut\", \"Ent\"])\n",
    "ml_panda.columns.name = \"predicted label\"\n",
    "ml_panda.index.name=\"true label\"\n",
    "sns.set(font_scale=2.0)\n",
    "ax = sns.heatmap(ml_panda,vmin=0., vmax=1.0, robust=True,annot=True)\n",
    "ax.set_title(\"InferSent: not type\")\n"
   ]
  },
  {
   "cell_type": "code",
   "execution_count": null,
   "metadata": {},
   "outputs": [],
   "source": [
    "#confusion (true, predict) {(2, 2): 1959, (0, 2): 2348, (0, 0): 4677, (2, 0): 4706, (0, 1): 338, (2, 1): 642}159.35it/s]\n",
    "ml_data = np.zeros((3,3), dtype=float)\n",
    "# row; true, column: prediction\n",
    "ml_data[0][2] = 7333\n",
    "ml_data[2][2] = 7337\n",
    "print ml_data\n",
    "\n",
    "ml_data[0] /= np.sum(ml_data[0])\n",
    "ml_data[2] /= np.sum(ml_data[2])\n",
    "# normalize\n",
    "#ax = sns.heatmap(ml_data, vmin=-1.0, vmax=1.0, robust=True,annot=True, xticklabels=[\"contradition\", \"neutral\", \"entailment\"], yticklabels=[\"contradition\", \"neutral\", \"entailment\"])\n",
    "#c {(2, 0): 7337, (0, 2): 54, (0, 0): 7132, (0, 1): 147}█████| 14/14 [00:00<00:00, 31895.85it/s]\n",
    "#ax.set_title(\"Comp: more/less Confusion Matrix\")\n",
    "print ax\n",
    "\n",
    "import pandas as pd\n",
    "ml_panda = pd.DataFrame(ml_data, columns=[\"Contr\", \"Neut\", \"Ent\"], index=[\"COntr\", \"Neut\", \"Ent\"])\n",
    "ml_panda.columns.name = \"predicted label\"\n",
    "ml_panda.index.name=\"true label\"\n",
    "sns.set(font_scale=2.0)\n",
    "ax = sns.heatmap(ml_panda,vmin=0., vmax=1.0, robust=True,annot=True)\n",
    "ax.set_title(\"BOW: same type\")\n"
   ]
  },
  {
   "cell_type": "code",
   "execution_count": null,
   "metadata": {},
   "outputs": [],
   "source": [
    "#confusion (true, predict) {(2, 2): 1959, (0, 2): 2348, (0, 0): 4677, (2, 0): 4706, (0, 1): 338, (2, 1): 642}159.35it/s]\n",
    "ml_data = np.zeros((3,3), dtype=float)\n",
    "# row; true, column: prediction\n",
    "ml_data[0][1] = 141\n",
    "ml_data[0][2] = 7222\n",
    "ml_data[2][1] = 141\n",
    "ml_data[2][2] = 7222\n",
    "print ml_data\n",
    "\n",
    "ml_data[0] /= np.sum(ml_data[0])\n",
    "ml_data[2] /= np.sum(ml_data[2])\n",
    "# normalize\n",
    "#ax = sns.heatmap(ml_data, vmin=-1.0, vmax=1.0, robust=True,annot=True, xticklabels=[\"contradition\", \"neutral\", \"entailment\"], yticklabels=[\"contradition\", \"neutral\", \"entailment\"])\n",
    "#c {(2, 0): 7337, (0, 2): 54, (0, 0): 7337, (0, 1): 54}█████| 14/14 [00:00<00:00, 31895.85it/s]\n",
    "#ax.set_title(\"Comp: more/less Confusion Matrix\")\n",
    "print ax\n",
    "\n",
    "import pandas as pd\n",
    "ml_panda = pd.DataFrame(ml_data, columns=[\"Contr\", \"Neut\", \"Ent\"], index=[\"Contr\", \"Neut\", \"Ent\"])\n",
    "ml_panda.columns.name = \"predicted label\"\n",
    "ml_panda.index.name=\"true label\"\n",
    "sns.set(font_scale=2.0)\n",
    "\n",
    "ax = sns.heatmap(ml_panda,vmin=0., vmax=1.0, robust=True,annot=True)\n",
    "ax.set_title(\"BOW: not type\")\n"
   ]
  },
  {
   "cell_type": "code",
   "execution_count": null,
   "metadata": {},
   "outputs": [],
   "source": [
    "#confusion (true, predict) {(2, 2): 1959, (0, 2): 2348, (0, 0): 4677, (2, 0): 4706, (0, 1): 338, (2, 1): 642}159.35it/s]\n",
    "ml_data = np.zeros((3,3), dtype=float)\n",
    "# row; true, column: prediction\n",
    "ml_data[0][1] = 3000\n",
    "ml_data[0][2] = 4370\n",
    "ml_data[2][1] = 3000\n",
    "ml_data[2][2] = 4370\n",
    "print ml_data\n",
    "\n",
    "ml_data[0] /= np.sum(ml_data[0])\n",
    "ml_data[2] /= np.sum(ml_data[2])\n",
    "# normalize\n",
    "#ax = sns.heatmap(ml_data, vmin=-1.0, vmax=1.0, robust=True,annot=True, xticklabels=[\"contradition\", \"neutral\", \"entailment\"], yticklabels=[\"contradition\", \"neutral\", \"entailment\"])\n",
    "#c {(2, 0): 7337, (0, 2): 54, (0, 0): 7132, (0, 1): 147}█████| 14/14 [00:00<00:00, 31895.85it/s]\n",
    "#ax.set_title(\"Comp: more/less Confusion Matrix\")\n",
    "print ax\n",
    "\n",
    "import pandas as pd\n",
    "ml_panda = pd.DataFrame(ml_data, columns=[\"Contr\", \"Neut\", \"Ent\"], index=[\"Contr\", \"Neut\", \"Ent\"])\n",
    "ml_panda.columns.name = \"predicted label\"\n",
    "ml_panda.index.name=\"true label\"\n",
    "sns.set(font_scale=2.0)\n",
    "ax = sns.heatmap(ml_panda,vmin=0., vmax=1.0, robust=True,annot=True)\n",
    "ax.set_title(\"BOW: more/less type\")\n"
   ]
  },
  {
   "cell_type": "code",
   "execution_count": null,
   "metadata": {
    "collapsed": true
   },
   "outputs": [],
   "source": []
  }
 ],
 "metadata": {
  "kernelspec": {
   "display_name": "Python 2",
   "language": "python",
   "name": "python2"
  },
  "language_info": {
   "codemirror_mode": {
    "name": "ipython",
    "version": 2
   },
   "file_extension": ".py",
   "mimetype": "text/x-python",
   "name": "python",
   "nbconvert_exporter": "python",
   "pygments_lexer": "ipython2",
   "version": "2.7.13"
  }
 },
 "nbformat": 4,
 "nbformat_minor": 2
}
